{
 "cells": [
  {
   "cell_type": "markdown",
   "metadata": {},
   "source": [
    "# Plot 1: Demographics\n",
    "### Do lower income people have a higher risk for all diseases as compared to higher income folks? Let's examine arthritis, skin cancer, and asthma for young people (<35 years old)."
   ]
  },
  {
   "cell_type": "code",
   "execution_count": 1,
   "metadata": {},
   "outputs": [],
   "source": [
    "import pandas as pd\n",
    "import matplotlib.pyplot as plt\n",
    "import numpy as np\n",
    "import seaborn as sns"
   ]
  },
  {
   "cell_type": "code",
   "execution_count": 2,
   "metadata": {},
   "outputs": [
    {
     "data": {
      "text/plain": [
       "(450016, 358)"
      ]
     },
     "execution_count": 2,
     "metadata": {},
     "output_type": "execute_result"
    }
   ],
   "source": [
    "# first read in the data\n",
    "df = pd.read_sas('LLCP2017.XPT',format='xport')\n",
    "df.shape"
   ]
  },
  {
   "cell_type": "code",
   "execution_count": 3,
   "metadata": {},
   "outputs": [],
   "source": [
    "# Select columns for income, arthritis, asthma, skin cancer, and age\n",
    "df2 = df[['_INCOMG','_DRDXAR1','_LTASTH1','CHCSCNCR','_AGE80']].copy()\n",
    "\n",
    "# Select entries that have a specific income\n",
    "df2 = df2.loc[df2['_INCOMG']<7] \n",
    "\n",
    "# Select ages <=35\n",
    "df2 = df2.loc[df2['_AGE80']<=35]\n",
    "\n",
    "# format arthritis columns\n",
    "df2['arthritis'] = df[['_DRDXAR1']]*-1+2\n",
    "\n",
    "# format asthma column\n",
    "df2['asthma'] = df[['_LTASTH1']]-1\n",
    "\n",
    "# format skin cancer column\n",
    "df2['skin_cancer'] = df[['CHCSCNCR']]*-1+2\n",
    "\n",
    "# clean up data to get rid of entries that aren't 0 or 1\n",
    "df2 = df2[(df2['arthritis']==1) | (df2['arthritis']==0) ]\n",
    "df2 = df2[(df2['asthma']==1) | (df2['asthma']==0) ]\n",
    "df2 = df2[(df2['skin_cancer']==1) | (df2['skin_cancer']==0) ]\n",
    "df2 = df2.dropna()"
   ]
  },
  {
   "cell_type": "code",
   "execution_count": 4,
   "metadata": {},
   "outputs": [],
   "source": [
    "# groupby income and calculate sum, count for each disease\n",
    "df3 = df2[['_INCOMG','arthritis','asthma','skin_cancer']].groupby('_INCOMG').agg({'arthritis':['sum','count'],\n",
    "                                                          'asthma':['sum','count'],\n",
    "                                                          'skin_cancer':['sum','count']}).copy()\n",
    "# get fraction of people with each disease\n",
    "df3['prop_arth'] = df3['arthritis']['sum']/df3['arthritis']['count'] \n",
    "df3['prop_asthma'] = df3['asthma']['sum']/df3['asthma']['count'] \n",
    "df3['prop_skin_cancer'] = df3['skin_cancer']['sum']/df3['skin_cancer']['count'] \n",
    "\n",
    "\n",
    "\n",
    "# calculate standard errors\n",
    "df3['std_error_arth'] = np.sqrt(df3['prop_arth']*(1-df3['prop_arth'])/df3['arthritis']['count'])\n",
    "df3['std_error_asthma'] = np.sqrt(df3['prop_asthma']*(1-df3['prop_asthma'])/df3['asthma']['count'])\n",
    "df3['std_error_skin_cancer'] = np.sqrt(df3['prop_skin_cancer']*(1-df3['prop_skin_cancer'])/df3['skin_cancer']['count'])\n",
    "\n",
    "#select relevant columns\n",
    "df3 = df3[['prop_skin_cancer','std_error_skin_cancer','prop_asthma','std_error_asthma',\n",
    "          'prop_arth','std_error_arth']]"
   ]
  },
  {
   "cell_type": "code",
   "execution_count": 5,
   "metadata": {},
   "outputs": [
    {
     "data": {
      "image/png": "[encoded data removed]",
      "text/plain": [
       "<Figure size 1224x360 with 3 Axes>"
      ]
     },
     "metadata": {
      "needs_background": "light"
     },
     "output_type": "display_data"
    }
   ],
   "source": [
    "#plot figure as 3 subplots\n",
    "fig = plt.figure(figsize=(17,5))\n",
    "fig.suptitle('Rates of disease vs income for 18 - 35 year olds', fontsize=20,y=1)\n",
    "plt.subplot(1,3,1)\n",
    "sns.barplot(x='_INCOMG',y='prop_asthma',data = df3.reset_index(),\n",
    "           yerr=df3['std_error_asthma'])\n",
    "locs, labels = plt.xticks()\n",
    "plt.yticks(fontsize=14)\n",
    "plt.locator_params(axis='y', nbins=3)\n",
    "plt.xticks(locs, ['<15','15- \\n 24.9','25- \\n 34.9','35- \\n 49.9',' ≥50'],rotation=0,fontsize=14)\n",
    "plt.xlabel('')\n",
    "plt.ylabel('fraction of respondents',fontsize=16)\n",
    "plt.title('asthma',fontsize=16)\n",
    "\n",
    "plt.subplot(1,3,2)\n",
    "sns.barplot(x='_INCOMG',y='prop_skin_cancer',data = df3.reset_index(),\n",
    "           yerr=df3['std_error_skin_cancer'])\n",
    "locs, labels = plt.xticks()\n",
    "plt.yticks(fontsize=14)\n",
    "plt.locator_params(axis='y', nbins=3)\n",
    "plt.xticks(locs, ['<15','15- \\n 24.9','25- \\n 34.9','35- \\n 49.9',' ≥50'],rotation=0,fontsize=14)\n",
    "plt.xlabel('annual household income (thousands of dollars)',fontsize=16)\n",
    "plt.ylabel('')\n",
    "plt.title('skin cancer',fontsize=16)\n",
    "\n",
    "plt.subplot(1,3,3)\n",
    "sns.barplot(x='_INCOMG',y='prop_arth',data = df3.reset_index(),\n",
    "           yerr=df3['std_error_arth'])\n",
    "locs, labels = plt.xticks()\n",
    "plt.yticks(fontsize=14)\n",
    "plt.locator_params(axis='y', nbins=3)\n",
    "plt.xticks(locs, ['<15','15- \\n 24.9','25- \\n 34.9','35- \\n 49.9',' ≥50'],rotation=0,fontsize=14)\n",
    "plt.xlabel('')\n",
    "plt.ylabel('')\n",
    "plt.title('arthritis',fontsize=16)\n",
    "plt.savefig('test.png', bbox_inches='tight')\n"
   ]
  },
  {
   "cell_type": "markdown",
   "metadata": {},
   "source": [
    "Here we see that annual household income has a significant affect on disease rates. For asthma and arthritis, increased income leads to higher rates of the disease. Skin cancer, however, has a higher rate of incidence in the highest income bracket."
   ]
  },
  {
   "cell_type": "code",
   "execution_count": null,
   "metadata": {},
   "outputs": [],
   "source": []
  },
  {
   "cell_type": "code",
   "execution_count": null,
   "metadata": {},
   "outputs": [],
   "source": []
  }
 ],
 "metadata": {
  "kernelspec": {
   "display_name": "Python 3",
   "language": "python",
   "name": "python3"
  },
  "language_info": {
   "codemirror_mode": {
    "name": "ipython",
    "version": 3
   },
   "file_extension": ".py",
   "mimetype": "text/x-python",
   "name": "python",
   "nbconvert_exporter": "python",
   "pygments_lexer": "ipython3",
   "version": "3.7.0"
  }
 },
 "nbformat": 4,
 "nbformat_minor": 2
}
